{
 "cells": [
  {
   "cell_type": "code",
   "execution_count": 1,
   "metadata": {},
   "outputs": [],
   "source": [
    "from ipynb.fs.full.trees import Node"
   ]
  },
  {
   "cell_type": "code",
   "execution_count": 12,
   "metadata": {},
   "outputs": [
    {
     "data": {
      "image/svg+xml": [
       "<svg xmlns=\"http://www.w3.org/2000/svg\" xmlns:xlink=\"http://www.w3.org/1999/xlink\" width=\"278pt\" height=\"188pt\" viewBox=\"0.00 0.00 278.00 188.00\">\n",
       "<g id=\"graph0\" class=\"graph\" transform=\"scale(1 1) rotate(0) translate(4 184)\">\n",
       "<polygon fill=\"white\" stroke=\"none\" points=\"-4,4 -4,-184 274,-184 274,4 -4,4\"/>\n",
       "<!-- 20 -->\n",
       "<g id=\"node1\" class=\"node\">\n",
       "<title>20</title>\n",
       "<ellipse fill=\"none\" stroke=\"black\" cx=\"135\" cy=\"-162\" rx=\"27\" ry=\"18\"/>\n",
       "<text text-anchor=\"middle\" x=\"135\" y=\"-156.57\" font-family=\"Times New Roman,serif\" font-size=\"14.00\">20</text>\n",
       "</g>\n",
       "<!-- 10 -->\n",
       "<g id=\"node2\" class=\"node\">\n",
       "<title>10</title>\n",
       "<ellipse fill=\"none\" stroke=\"black\" cx=\"99\" cy=\"-90\" rx=\"27\" ry=\"18\"/>\n",
       "<text text-anchor=\"middle\" x=\"99\" y=\"-84.58\" font-family=\"Times New Roman,serif\" font-size=\"14.00\">10</text>\n",
       "</g>\n",
       "<!-- 20&#45;&gt;10 -->\n",
       "<g id=\"edge1\" class=\"edge\">\n",
       "<title>20-&gt;10</title>\n",
       "<path fill=\"none\" stroke=\"black\" d=\"M126.65,-144.76C122.42,-136.55 117.19,-126.37 112.42,-117.09\"/>\n",
       "<polygon fill=\"black\" stroke=\"black\" points=\"115.68,-115.79 108,-108.49 109.46,-118.99 115.68,-115.79\"/>\n",
       "</g>\n",
       "<!-- 30 -->\n",
       "<g id=\"node5\" class=\"node\">\n",
       "<title>30</title>\n",
       "<ellipse fill=\"none\" stroke=\"black\" cx=\"171\" cy=\"-90\" rx=\"27\" ry=\"18\"/>\n",
       "<text text-anchor=\"middle\" x=\"171\" y=\"-84.58\" font-family=\"Times New Roman,serif\" font-size=\"14.00\">30</text>\n",
       "</g>\n",
       "<!-- 20&#45;&gt;30 -->\n",
       "<g id=\"edge4\" class=\"edge\">\n",
       "<title>20-&gt;30</title>\n",
       "<path fill=\"none\" stroke=\"black\" d=\"M143.35,-144.76C147.58,-136.55 152.81,-126.37 157.58,-117.09\"/>\n",
       "<polygon fill=\"black\" stroke=\"black\" points=\"160.54,-118.99 162,-108.49 154.32,-115.79 160.54,-118.99\"/>\n",
       "</g>\n",
       "<!-- 5 -->\n",
       "<g id=\"node3\" class=\"node\">\n",
       "<title>5</title>\n",
       "<ellipse fill=\"none\" stroke=\"black\" cx=\"27\" cy=\"-18\" rx=\"27\" ry=\"18\"/>\n",
       "<text text-anchor=\"middle\" x=\"27\" y=\"-12.57\" font-family=\"Times New Roman,serif\" font-size=\"14.00\">5</text>\n",
       "</g>\n",
       "<!-- 10&#45;&gt;5 -->\n",
       "<g id=\"edge2\" class=\"edge\">\n",
       "<title>10-&gt;5</title>\n",
       "<path fill=\"none\" stroke=\"black\" d=\"M84.08,-74.5C74.23,-64.92 61.14,-52.19 49.97,-41.34\"/>\n",
       "<polygon fill=\"black\" stroke=\"black\" points=\"52.59,-39 42.98,-34.54 47.71,-44.02 52.59,-39\"/>\n",
       "</g>\n",
       "<!-- 15 -->\n",
       "<g id=\"node4\" class=\"node\">\n",
       "<title>15</title>\n",
       "<ellipse fill=\"none\" stroke=\"black\" cx=\"99\" cy=\"-18\" rx=\"27\" ry=\"18\"/>\n",
       "<text text-anchor=\"middle\" x=\"99\" y=\"-12.57\" font-family=\"Times New Roman,serif\" font-size=\"14.00\">15</text>\n",
       "</g>\n",
       "<!-- 10&#45;&gt;15 -->\n",
       "<g id=\"edge3\" class=\"edge\">\n",
       "<title>10-&gt;15</title>\n",
       "<path fill=\"none\" stroke=\"black\" d=\"M99,-71.7C99,-64.41 99,-55.73 99,-47.54\"/>\n",
       "<polygon fill=\"black\" stroke=\"black\" points=\"102.5,-47.62 99,-37.62 95.5,-47.62 102.5,-47.62\"/>\n",
       "</g>\n",
       "<!-- 25 -->\n",
       "<g id=\"node6\" class=\"node\">\n",
       "<title>25</title>\n",
       "<ellipse fill=\"none\" stroke=\"black\" cx=\"171\" cy=\"-18\" rx=\"27\" ry=\"18\"/>\n",
       "<text text-anchor=\"middle\" x=\"171\" y=\"-12.57\" font-family=\"Times New Roman,serif\" font-size=\"14.00\">25</text>\n",
       "</g>\n",
       "<!-- 30&#45;&gt;25 -->\n",
       "<g id=\"edge5\" class=\"edge\">\n",
       "<title>30-&gt;25</title>\n",
       "<path fill=\"none\" stroke=\"black\" d=\"M171,-71.7C171,-64.41 171,-55.73 171,-47.54\"/>\n",
       "<polygon fill=\"black\" stroke=\"black\" points=\"174.5,-47.62 171,-37.62 167.5,-47.62 174.5,-47.62\"/>\n",
       "</g>\n",
       "<!-- 35 -->\n",
       "<g id=\"node7\" class=\"node\">\n",
       "<title>35</title>\n",
       "<ellipse fill=\"none\" stroke=\"black\" cx=\"243\" cy=\"-18\" rx=\"27\" ry=\"18\"/>\n",
       "<text text-anchor=\"middle\" x=\"243\" y=\"-12.57\" font-family=\"Times New Roman,serif\" font-size=\"14.00\">35</text>\n",
       "</g>\n",
       "<!-- 30&#45;&gt;35 -->\n",
       "<g id=\"edge6\" class=\"edge\">\n",
       "<title>30-&gt;35</title>\n",
       "<path fill=\"none\" stroke=\"black\" d=\"M185.92,-74.5C195.77,-64.92 208.86,-52.19 220.03,-41.34\"/>\n",
       "<polygon fill=\"black\" stroke=\"black\" points=\"222.29,-44.02 227.02,-34.54 217.41,-39 222.29,-44.02\"/>\n",
       "</g>\n",
       "</g>\n",
       "</svg>"
      ],
      "text/plain": [
       "<IPython.core.display.SVG object>"
      ]
     },
     "execution_count": 12,
     "metadata": {},
     "output_type": "execute_result"
    }
   ],
   "source": [
    "# Creating a binary search tree from trees.ipynb class Node\n",
    "root = Node(20)\n",
    "root.insertData(10)\n",
    "root.insertData(30)\n",
    "root.insertData(5)\n",
    "root.insertData(15)\n",
    "root.insertData(25)\n",
    "root.insertData(35)\n",
    "root.visualize() # Visualizing the tree for reference\n",
    " "
   ]
  },
  {
   "cell_type": "code",
   "execution_count": 14,
   "metadata": {},
   "outputs": [
    {
     "name": "stdout",
     "output_type": "stream",
     "text": [
      "Visiting node: 5\n",
      "Visiting node: 10\n",
      "Visiting node: 15\n",
      "Visiting node: 20\n",
      "Visiting node: 25\n",
      "Visiting node: 30\n",
      "Visiting node: 35\n"
     ]
    }
   ],
   "source": [
    "# In-order traversal of a binary tree, which is a depth-first traversal\n",
    "# In-order traversal visits the left subtree, then the root, then the right subtree\n",
    "# The time complexity of in-order traversal is O(n), where n is the number of nodes in the tree, \n",
    "# and space complexity is O(h), where h is the height of the tree\n",
    "\n",
    "def in_order_traversal(node):\n",
    "    if node is not None: # If the tree is not empty\n",
    "        in_order_traversal(node.left) # Visit the left subtree first\n",
    "        print(\"Visiting node:\", node.data)\n",
    "        in_order_traversal(node.right) # Visit the right subtree next\n",
    "        \n",
    "in_order_traversal(root)"
   ]
  },
  {
   "cell_type": "code",
   "execution_count": 15,
   "metadata": {},
   "outputs": [
    {
     "name": "stdout",
     "output_type": "stream",
     "text": [
      "Visiting node: 5\n",
      "Visiting node: 15\n",
      "Visiting node: 10\n",
      "Visiting node: 25\n",
      "Visiting node: 35\n",
      "Visiting node: 30\n",
      "Visiting node: 20\n"
     ]
    }
   ],
   "source": [
    "# Post-order traversal of a binary tree\n",
    "# It visits the left subtree, then the right subtree, then the root\n",
    "# The time and space complexity of post-order traversal is the same as in-order traversal\n",
    "\n",
    "def post_order_traversal(node):\n",
    "    if node is not None:\n",
    "        post_order_traversal(node.left)\n",
    "        post_order_traversal(node.right)\n",
    "        print(\"Visiting node:\", node.data)\n",
    "        \n",
    "post_order_traversal(root)"
   ]
  },
  {
   "cell_type": "code",
   "execution_count": 17,
   "metadata": {},
   "outputs": [
    {
     "name": "stdout",
     "output_type": "stream",
     "text": [
      "Visiting node: 20\n",
      "Visiting node: 10\n",
      "Visiting node: 5\n",
      "Visiting node: 15\n",
      "Visiting node: 30\n",
      "Visiting node: 25\n",
      "Visiting node: 35\n"
     ]
    }
   ],
   "source": [
    "# Pre-order traversal of a binary tree\n",
    "# It visits the root, then the left subtree, then the right subtree\n",
    "# The time and space complexity of pre-order traversal is the same as the previous two traversals\n",
    "\n",
    "def pre_order_traversal(node):\n",
    "    if node is not None:\n",
    "        print(\"Visiting node:\", node.data)\n",
    "        pre_order_traversal(node.left)\n",
    "        pre_order_traversal(node.right)\n",
    "        \n",
    "pre_order_traversal(root)"
   ]
  }
 ],
 "metadata": {
  "kernelspec": {
   "display_name": "Python 3",
   "language": "python",
   "name": "python3"
  },
  "language_info": {
   "codemirror_mode": {
    "name": "ipython",
    "version": 3
   },
   "file_extension": ".py",
   "mimetype": "text/x-python",
   "name": "python",
   "nbconvert_exporter": "python",
   "pygments_lexer": "ipython3",
   "version": "3.11.1"
  }
 },
 "nbformat": 4,
 "nbformat_minor": 2
}
