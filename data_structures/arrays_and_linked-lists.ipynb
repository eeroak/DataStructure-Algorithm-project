{
 "cells": [
  {
   "cell_type": "code",
   "execution_count": 64,
   "metadata": {},
   "outputs": [],
   "source": [
    "import numpy as np"
   ]
  },
  {
   "cell_type": "code",
   "execution_count": 65,
   "metadata": {},
   "outputs": [],
   "source": [
    "# Arrays are used to store multiple values in one single variable\n",
    "# Python does not have built-in support for Arrays, but Python Lists can be used instead, \n",
    "# but i will use numpy arrays for more \"legitimate\" arrays\n",
    "\n",
    "def Arrays():\n",
    "    # Each value in an array is a \"0-Dimensional\" array (scalar, element)\n",
    "    global array1, array2, array3\n",
    "    array1 = np.array([6, 7, 8, 6, 4, 2, 5, 9, 7, 3], dtype=\"f\") # Creates an 1 dimensional -array with 10 elements and float datatype\n",
    "    array2 = np.array([[1, 2, 3, 4, 5], [6, 7, 8, 9, 10]]) # 2 dimensional -array with 2rows and 5cols, so essentially a 2x5 matrix\n",
    "    array3 = np.array([[[1, 2, 3], [4, 5, 6]], [[7, 8, 9], [10, 11, 12]]]) # 3 dimensional -array with 2rows, 2cols, and 3 depth (x, y, z), often used to represent a 3rd order tensor\n",
    "\n",
    "def ArrayInfo():\n",
    "    # Prints the array, checks its type, datatype, shape and tells us how many dimensions the array has\n",
    "    print(\"Arrays, types, datatypes, shapes, and dimensions:\")\n",
    "    print(array1, type(array1), array1.dtype, array1.shape, array1.ndim, \"\\n\")\n",
    "    print(array2, type(array2), array2.dtype, array2.shape, array2.ndim, \"\\n\")\n",
    "    print(array3, type(array3), array3.dtype, array3.shape, array3.ndim, \"\\n\")\n",
    "\n",
    "def ArrayAccess():\n",
    "    # Accessing elements in an array\n",
    "    print(\"Accessing elements in an array:\")\n",
    "    print(\" First element of array1:\", array1[0], \"\\n\", \"Second element of the first column of array2:\", array2[0, 1], \"\\n\", \"Third element of the first row of the second matrix of array3:\", array3[1, 0, 2],\"\\n\")\n",
    "\n",
    "def ArraySlicing():\n",
    "    # Slicing arrays, step is defaulted to 1 if not specified\n",
    "    print(\"Slicing arrays:\")\n",
    "    print(\"\\n\", \"Elements from index 1 to 5 with a step of 2 of array1:\", array1[1:5:2], \"\\n\", \"Elements from index 1 to 4 of first column of array2:\", array2[0, 1:4], \"\\n\")\n",
    "\n",
    "def CopiesAndViews():\n",
    "    # Copies and views, a copy owns the data and any changes made to the copy will not affect the original array, \n",
    "    # a view does not own the data and any changes made to the view will affect the original array\n",
    "    print(\"Copies and views:\")\n",
    "    array1_copy = array1.copy()\n",
    "    array1_view = array1.view()\n",
    "    array1[0] = 22.2 # Changes the first element of array1\n",
    "    print(\"Copy of array1:\", array1_copy, \"\\n\") # The first element of the copy is still 6\n",
    "    print(\"View of array1:\", array1_view, \"\\n\") # The first element of the view is now 22.2\n",
    "    array1[0] = 6 # Changes the first element of array1 back to 6\n",
    "\n",
    "def ArrayMethods():\n",
    "    # Methods for arrays\n",
    "    print(\"Methods for arrays:\")\n",
    "    print(\"Sum of array1:\", array1.sum(), \"\\n\", \"Minimum value of array2:\", array2.min(), \"\\n\", \"Maximum value of array3:\", array3.max(), \"\\n\")\n",
    "    \n",
    "def ArrayReshaping():\n",
    "    # Reshaping arrays, changing the number of rows and columns\n",
    "    print(\"Reshaping arrays:\")\n",
    "    print(\"Reshaped array1:\", array1.reshape(2, 5)) # Reshapes array1 to 2x5 matrix"
   ]
  },
  {
   "cell_type": "code",
   "execution_count": 66,
   "metadata": {},
   "outputs": [
    {
     "name": "stdout",
     "output_type": "stream",
     "text": [
      "Arrays, types, datatypes, shapes, and dimensions:\n",
      "[22.2  7.   8.   6.   4.   2.   5.   9.   7.   3. ] <class 'numpy.ndarray'> float32 (10,) 1 \n",
      "\n",
      "[[ 1  2  3  4  5]\n",
      " [ 6  7  8  9 10]] <class 'numpy.ndarray'> int32 (2, 5) 2 \n",
      "\n",
      "[[[ 1  2  3]\n",
      "  [ 4  5  6]]\n",
      "\n",
      " [[ 7  8  9]\n",
      "  [10 11 12]]] <class 'numpy.ndarray'> int32 (2, 2, 3) 3 \n",
      "\n"
     ]
    }
   ],
   "source": [
    "ArrayInfo()"
   ]
  },
  {
   "cell_type": "code",
   "execution_count": 67,
   "metadata": {},
   "outputs": [
    {
     "name": "stdout",
     "output_type": "stream",
     "text": [
      "Accessing elements in an array:\n",
      " First element of array1: 22.2 \n",
      " Second element of the first column of array2: 2 \n",
      " Third element of the first row of the second matrix of array3: 9 \n",
      "\n"
     ]
    }
   ],
   "source": [
    "ArrayAccess()"
   ]
  },
  {
   "cell_type": "code",
   "execution_count": 68,
   "metadata": {},
   "outputs": [
    {
     "name": "stdout",
     "output_type": "stream",
     "text": [
      "Slicing arrays:\n",
      "\n",
      " Elements from index 1 to 5 with a step of 2 of array1: [7. 6.] \n",
      " Elements from index 1 to 4 of first column of array2: [2 3 4] \n",
      "\n"
     ]
    }
   ],
   "source": [
    "ArraySlicing()"
   ]
  },
  {
   "cell_type": "code",
   "execution_count": 69,
   "metadata": {},
   "outputs": [
    {
     "name": "stdout",
     "output_type": "stream",
     "text": [
      "Copies and views:\n",
      "Copy of array1: [22.2  7.   8.   6.   4.   2.   5.   9.   7.   3. ] \n",
      "\n",
      "View of array1: [22.2  7.   8.   6.   4.   2.   5.   9.   7.   3. ] \n",
      "\n"
     ]
    }
   ],
   "source": [
    "CopiesAndViews() #TODO global variables mess with copies and views"
   ]
  },
  {
   "cell_type": "code",
   "execution_count": 70,
   "metadata": {},
   "outputs": [
    {
     "name": "stdout",
     "output_type": "stream",
     "text": [
      "Methods for arrays:\n",
      "Sum of array1: 57.0 \n",
      " Minimum value of array2: 1 \n",
      " Maximum value of array3: 12 \n",
      "\n"
     ]
    }
   ],
   "source": [
    "ArrayMethods()"
   ]
  },
  {
   "cell_type": "code",
   "execution_count": 71,
   "metadata": {},
   "outputs": [
    {
     "name": "stdout",
     "output_type": "stream",
     "text": [
      "Reshaping arrays:\n",
      "Reshaped array1: [[6. 7. 8. 6. 4.]\n",
      " [2. 5. 9. 7. 3.]]\n"
     ]
    }
   ],
   "source": [
    "ArrayReshaping()"
   ]
  }
 ],
 "metadata": {
  "kernelspec": {
   "display_name": "Python 3",
   "language": "python",
   "name": "python3"
  },
  "language_info": {
   "codemirror_mode": {
    "name": "ipython",
    "version": 3
   },
   "file_extension": ".py",
   "mimetype": "text/x-python",
   "name": "python",
   "nbconvert_exporter": "python",
   "pygments_lexer": "ipython3",
   "version": "3.11.1"
  }
 },
 "nbformat": 4,
 "nbformat_minor": 2
}
