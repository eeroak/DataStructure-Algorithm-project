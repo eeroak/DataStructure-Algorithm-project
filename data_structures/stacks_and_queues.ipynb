{
 "cells": [
  {
   "cell_type": "code",
   "execution_count": 1,
   "metadata": {},
   "outputs": [],
   "source": [
    "import random\n",
    "from collections import deque"
   ]
  },
  {
   "cell_type": "code",
   "execution_count": 28,
   "metadata": {},
   "outputs": [
    {
     "name": "stdout",
     "output_type": "stream",
     "text": [
      "Our randomly generated stack at the start: [9, 10, 6, 5, 10, 3, 4, 1, 7, 6] Number of elements in the stack: 10\n",
      "Our stack after pushing 100 on top: [9, 10, 6, 5, 10, 3, 4, 1, 7, 6, 100] Number of elements in the stack: 11\n",
      "100\n",
      "Our stack after popping the last element off: [9, 10, 6, 5, 10, 3, 4, 1, 7, 6] Number of elements in the stack: 10\n"
     ]
    }
   ],
   "source": [
    "# Stacks work on the principle of Last In First Out (LIFO)\n",
    "# Stacks are simple and efficient and have a time complexity of O(1) for pop operations\n",
    "# It doesnt matter what order elements are pushed onto the stack, and the last element pushed will be the first to be popped off always\n",
    "\n",
    "# Random stack generator\n",
    "def StackGenerator():\n",
    "    global num_elem\n",
    "    stack = []\n",
    "    num_elem = 10 # Defines the number of elements in the desired data structure\n",
    "\n",
    "    # Push random elements onto the stack\n",
    "    for j in range(num_elem):\n",
    "        stack.append(random.randint(1, 10))\n",
    "    print(\"Our randomly generated stack at the start:\", stack, \"Number of elements in the stack:\", len(stack))\n",
    "\n",
    "    stack.append(100) # Pushing 100 on top of the stack\n",
    "    print(\"Our stack after pushing 100 on top:\", stack, \"Number of elements in the stack:\", len(stack))\n",
    "\n",
    "    print(stack.pop()) # Popping the last element off the stack, and prints the element that was popped\n",
    "    print(\"Our stack after popping the last element off:\", stack, \"Number of elements in the stack:\", len(stack))\n",
    "    \n",
    "StackGenerator()"
   ]
  },
  {
   "cell_type": "code",
   "execution_count": 33,
   "metadata": {},
   "outputs": [
    {
     "name": "stdout",
     "output_type": "stream",
     "text": [
      "Our randomly generated queue at the start: [10, 3, 8, 7, 2, 1, 8, 6, 3, 9] Number of elements in the queue: 10\n",
      "Our queue after enqueuing two new numbers at the end: [10, 3, 8, 7, 2, 1, 8, 6, 3, 9, 999, 888] Number of elements in the queue: 12\n",
      "10 3\n",
      "Our queue after dequeuing the first element: [8, 7, 2, 1, 8, 6, 3, 9, 999, 888] Number of elements in the queue: 10\n"
     ]
    }
   ],
   "source": [
    "# Queue works on the principle of First In First Out (FIFO)\n",
    "# They have a time complexity of O(1) for enqueue and dequeue operations\n",
    "\n",
    "# Random queue generator\n",
    "def QueueGenerator():\n",
    "    queue = []\n",
    "\n",
    "    for j in range(num_elem):\n",
    "        queue.append(random.randint(1, 10))\n",
    "    print(\"Our randomly generated queue at the start:\", queue, \"Number of elements in the queue:\", len(queue))\n",
    "    \n",
    "    # Enqueue 999 & 888 at the end of the queue\n",
    "    queue.append(999)\n",
    "    queue.append(888) \n",
    "    print(\"Our queue after enqueuing two new numbers at the end:\", queue, \"Number of elements in the queue:\", len(queue))\n",
    "    \n",
    "    print(queue.pop(0), queue.pop(0)) # Dequeue the first element twice and print the element(s) that were dequeued\n",
    "    print(\"Our queue after dequeuing the first element twice:\", queue, \"Number of elements in the queue:\", len(queue))\n",
    "    \n",
    "QueueGenerator()"
   ]
  },
  {
   "cell_type": "code",
   "execution_count": 43,
   "metadata": {},
   "outputs": [
    {
     "name": "stdout",
     "output_type": "stream",
     "text": [
      "Our randomly generated deque at the start: deque([2, 4, 9, 10, 8, 5, 7, 4, 7, 6]) Number of elements in the deque: 10\n",
      "Our deque after appending 444 to the left: deque([444, 2, 4, 9, 10, 8, 5, 7, 4, 7, 6]) Number of elements in the deque: 11\n",
      "6\n",
      "Our deque after popping the last element off: deque([444, 2, 4, 9, 10, 8, 5, 7, 4, 7]) Number of elements in the deque: 10\n",
      "444\n",
      "Our deque after popping the first element off: deque([2, 4, 9, 10, 8, 5, 7, 4, 7]) Number of elements in the deque: 9\n"
     ]
    }
   ],
   "source": [
    "# Deque is a double-ended queue, which is a generalization of a stack and a queue\n",
    "# It has a time complexity of O(1) for append and pop operations on both ends of the deque, and O(n) for insert and delete operations\n",
    "# Deque is a good choice when you need a queue with fast append and pop operations from both ends of the queue,\n",
    "# thats why it beats the normal list queue in terms of time complexity, since normal list queue has a time complexity of O(n) for pop(0)\n",
    "\n",
    "\n",
    "def DequeGenerator():\n",
    "    de_queue = deque() # Create a deque (Double-ended queue)\n",
    "\n",
    "    for j in range(num_elem):\n",
    "        de_queue.append(random.randint(1, 10))\n",
    "    print(\"Our randomly generated deque at the start:\", de_queue, \"Number of elements in the deque:\", len(de_queue))\n",
    "    \n",
    "    de_queue.appendleft(444) # Append 444 to the left of the deque\n",
    "    print(\"Our deque after appending 444 to the left:\", de_queue, \"Number of elements in the deque:\", len(de_queue))\n",
    "    \n",
    "    print(de_queue.pop()) # Pop the last element off the deque\n",
    "    print(\"Our deque after popping the last element off:\", de_queue, \"Number of elements in the deque:\", len(de_queue))\n",
    "    \n",
    "    print(de_queue.popleft()) # Pop the first element off the deque\n",
    "    print(\"Our deque after popping the first element off:\", de_queue, \"Number of elements in the deque:\", len(de_queue))\n",
    "\n",
    "DequeGenerator()\n"
   ]
  }
 ],
 "metadata": {
  "kernelspec": {
   "display_name": "Python 3",
   "language": "python",
   "name": "python3"
  },
  "language_info": {
   "codemirror_mode": {
    "name": "ipython",
    "version": 3
   },
   "file_extension": ".py",
   "mimetype": "text/x-python",
   "name": "python",
   "nbconvert_exporter": "python",
   "pygments_lexer": "ipython3",
   "version": "3.11.1"
  }
 },
 "nbformat": 4,
 "nbformat_minor": 2
}
