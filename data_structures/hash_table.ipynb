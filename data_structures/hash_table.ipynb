{
 "cells": [
  {
   "cell_type": "code",
   "execution_count": 7,
   "metadata": {},
   "outputs": [
    {
     "name": "stdout",
     "output_type": "stream",
     "text": [
      "Accessing dict['ID']: 2222\n",
      "Accessing dict['Name']: Eero\n"
     ]
    }
   ],
   "source": [
    "# Implementation of hash table by using dictionarys\n",
    "# In python, dicts represent hash tables, so hash table is basically a data structure that has key-value pairs\n",
    "\n",
    "hash_table = {\n",
    "    'ID': 2222, \n",
    "    'Name': 'Eero', \n",
    "    'Phone': '123-456-7890',\n",
    "}\n",
    "# Accessing dict values\n",
    "print(\"Accessing dict['ID']:\", hash_table['ID'])\n",
    "print(\"Accessing dict['Name']:\", hash_table['Name'])"
   ]
  },
  {
   "cell_type": "code",
   "execution_count": 8,
   "metadata": {},
   "outputs": [
    {
     "name": "stdout",
     "output_type": "stream",
     "text": [
      "Updated dict['Name']: Otto\n",
      "Added new entry to hash_table: dict['School']: TUAS\n"
     ]
    }
   ],
   "source": [
    "# Updating values and adding entries\n",
    "hash_table['Name'] = 'Otto';\n",
    "hash_table['School'] = 'TUAS';\n",
    "\n",
    "print(\"Updated dict['Name']:\", hash_table['Name'])\n",
    "print(\"Added new entry to hash_table: dict['School']:\", hash_table['School'])"
   ]
  },
  {
   "cell_type": "code",
   "execution_count": 9,
   "metadata": {},
   "outputs": [
    {
     "name": "stdout",
     "output_type": "stream",
     "text": [
      "Hash_table dict after removing ['School']: {'ID': 2222, 'Name': 'Otto', 'Phone': '123-456-7890'}\n"
     ]
    }
   ],
   "source": [
    "# Deleting elements\n",
    "del hash_table['School'];\n",
    "#hash_table.clear(); Removes all entries\n",
    "# del hash_table; Deletes entire dictionary\n",
    "\n",
    "print(\"Hash_table dict after removing ['School']:\", hash_table)"
   ]
  }
 ],
 "metadata": {
  "kernelspec": {
   "display_name": "Python 3",
   "language": "python",
   "name": "python3"
  },
  "language_info": {
   "codemirror_mode": {
    "name": "ipython",
    "version": 3
   },
   "file_extension": ".py",
   "mimetype": "text/x-python",
   "name": "python",
   "nbconvert_exporter": "python",
   "pygments_lexer": "ipython3",
   "version": "3.11.1"
  }
 },
 "nbformat": 4,
 "nbformat_minor": 2
}
