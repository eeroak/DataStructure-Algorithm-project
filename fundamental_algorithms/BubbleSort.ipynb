{
 "cells": [
  {
   "cell_type": "code",
   "execution_count": 1,
   "metadata": {},
   "outputs": [
    {
     "name": "stdout",
     "output_type": "stream",
     "text": [
      "[111, 222, 333, 444, 555, 999, 1121, 2222, 10000, 15000]\n"
     ]
    }
   ],
   "source": [
    "# Bubble sort algorithm is a very slow algorithm, coming in at O(n^2), O(1)\n",
    "# It goes through the list comparing every element to each other. \n",
    "# If they are in the wrong order, they are swapped. If any swaps were made, we repeat the first step.\n",
    "\n",
    "def BubbleSort(li):\n",
    "    k = len(li) # Iterative for looping through the list\n",
    "    for i in range(k):\n",
    "        for j in range(0, k-i-1): # Iterate from the start of the list to the last unsorted element, the last elements index decreases with each pass\n",
    "            #Element comparison\n",
    "            if li[j] > li[j+1]: # If the current element is greater than the next one\n",
    "                li[j], li[j+1] = li[j+1], li[j] # Swap them\n",
    "            else:\n",
    "                pass # Pass if all the elements are sorted in order from smallest to biggest\n",
    "    print(li) # Print the list once it is sorted\n",
    "\n",
    "BubbleSort([10000,222,15000,444,555,111,999,1121,333,2222])\n",
    "    "
   ]
  }
 ],
 "metadata": {
  "kernelspec": {
   "display_name": "Python 3",
   "language": "python",
   "name": "python3"
  },
  "language_info": {
   "codemirror_mode": {
    "name": "ipython",
    "version": 3
   },
   "file_extension": ".py",
   "mimetype": "text/x-python",
   "name": "python",
   "nbconvert_exporter": "python",
   "pygments_lexer": "ipython3",
   "version": "3.11.1"
  }
 },
 "nbformat": 4,
 "nbformat_minor": 2
}
