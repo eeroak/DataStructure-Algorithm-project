{
 "cells": [
  {
   "cell_type": "code",
   "execution_count": 1,
   "metadata": {},
   "outputs": [
    {
     "data": {
      "text/plain": [
       "('Element:', 33, 'found at index:', 7)"
      ]
     },
     "execution_count": 1,
     "metadata": {},
     "output_type": "execute_result"
    }
   ],
   "source": [
    "# Sentinel Linear search is a type of linear search that uses a sentinel to reduce the number of comparisons.\n",
    "# In traditional linear search, only N comparisons are made. In sentinel linear search, N+1 comparisons are made.\n",
    "# So a sentinel value is used to avoid any out-of-bounds checks in the loop.\n",
    "# The time complexity is O(n) and space complexity is O(1).\n",
    "\n",
    "def sentinelLinearSearch(arr, ele, key):\n",
    "    last_element = arr[ele - 1]\n",
    "    # Element to be searched is placed at the last index\n",
    "    arr[ele - 1] = key\n",
    "    i = 0\n",
    "    \n",
    "    while (arr[i] != key): # Loop will terminate when key is found\n",
    "        i += 1 \n",
    "        \n",
    "    arr[ele - 1] = last_element # Revert the last element back to its original position\n",
    "    \n",
    "    if ((i < ele - 1) or (arr[ele - 1] == key)): # If key is found\n",
    "        return \"Element:\", key, \"found at index:\", i\n",
    "    else:\n",
    "        return \"Element not found in array\"\n",
    "    \n",
    "arr = [5, 7, 3, 2, 10, 100, 60, 33, 1]\n",
    "ele = len(arr)\n",
    "key = 33\n",
    "\n",
    "sentinelLinearSearch(arr, ele, key)"
   ]
  }
 ],
 "metadata": {
  "kernelspec": {
   "display_name": "Python 3",
   "language": "python",
   "name": "python3"
  },
  "language_info": {
   "codemirror_mode": {
    "name": "ipython",
    "version": 3
   },
   "file_extension": ".py",
   "mimetype": "text/x-python",
   "name": "python",
   "nbconvert_exporter": "python",
   "pygments_lexer": "ipython3",
   "version": "3.11.1"
  }
 },
 "nbformat": 4,
 "nbformat_minor": 2
}
