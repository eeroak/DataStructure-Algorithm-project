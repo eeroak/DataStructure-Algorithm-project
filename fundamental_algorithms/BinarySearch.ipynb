{
 "cells": [
  {
   "cell_type": "code",
   "execution_count": 5,
   "metadata": {},
   "outputs": [
    {
     "data": {
      "text/plain": [
       "('Found element', 7, 'at index', 5)"
      ]
     },
     "execution_count": 5,
     "metadata": {},
     "output_type": "execute_result"
    }
   ],
   "source": [
    "# Binary search is an algorithm used in a sorted array by repeatedly dividing the search interval in half.\n",
    "# The idea is to use the info that the array is sorted and by that way reduce the time complexity to O(log N). Auxiliary space = O(1)\n",
    "\n",
    "def BinarySearch(arr, left, right, ele): # given array, split into left and right sides, and the element we are searching for\n",
    "    if right >= left:\n",
    "        mid = left + (right - left) // 2 # Finding the middlepoint\n",
    "        if arr[mid] == ele:\n",
    "            return \"Found element\", ele, \"at index\", mid\n",
    "        elif arr[mid] > ele:\n",
    "            return BinarySearch(arr, left, mid-1, ele)\n",
    "        else:\n",
    "            return BinarySearch(arr, mid + 1, right, ele)\n",
    "    else:\n",
    "        return \"Element not found in given array\"\n",
    "    \n",
    "arr = [2, 3, 4, 5, 6, 7, 8, 9]\n",
    "ele = 7 # Element we are searching for, change in order to get different results\n",
    "\n",
    "BinarySearch(arr, 0, len(arr)-1, ele)"
   ]
  }
 ],
 "metadata": {
  "kernelspec": {
   "display_name": "Python 3",
   "language": "python",
   "name": "python3"
  },
  "language_info": {
   "codemirror_mode": {
    "name": "ipython",
    "version": 3
   },
   "file_extension": ".py",
   "mimetype": "text/x-python",
   "name": "python",
   "nbconvert_exporter": "python",
   "pygments_lexer": "ipython3",
   "version": "3.11.1"
  }
 },
 "nbformat": 4,
 "nbformat_minor": 2
}
