{
 "cells": [
  {
   "cell_type": "code",
   "execution_count": 2,
   "metadata": {},
   "outputs": [],
   "source": [
    "from ipynb.fs.full.BubbleSort import BubbleSort\n",
    "from ipynb.fs.full.InsertionSort import InsertionSort\n",
    "from ipynb.fs.full.MergeSort import MergeSort\n",
    "import timeit as ti\n",
    "import random"
   ]
  },
  {
   "cell_type": "markdown",
   "metadata": {},
   "source": [
    "## All times are represented in seconds!\n",
    "\n",
    "#### Testing speeds of:\n",
    "Bubble sort  \n",
    "Insertion sort  \n",
    "Merge sort"
   ]
  },
  {
   "cell_type": "code",
   "execution_count": 5,
   "metadata": {},
   "outputs": [
    {
     "name": "stdout",
     "output_type": "stream",
     "text": [
      "BubbleSort with thousand numbers:  0.023240599999553524\n",
      "BubbleSort with ten thousand numbers:  2.350494999998773\n",
      "BubbleSort with hundred thousand numbers:  267.9419627000025\n"
     ]
    }
   ],
   "source": [
    "# Different sizes of lists for testing and benchmarking\n",
    "thousand = [random.randint(1, 1000) for _ in range(1000)]\n",
    "ten_thousand = [random.randint(1, 10000) for _ in range(10000)]\n",
    "hundred_thousand = [random.randint(1, 100000) for _ in range(100000)]\n",
    "# million = [random.randint(1, 1000000) for _ in range(1000000)]\n",
    "\n",
    "\n",
    "timer_start = ti.default_timer()\n",
    "bs = BubbleSort(thousand);\n",
    "timer_end = ti.default_timer()\n",
    "print(\"BubbleSort with thousand numbers: \", timer_end - timer_start)\n",
    "\n",
    "timer2_start = ti.default_timer()\n",
    "bs2 = BubbleSort(ten_thousand);\n",
    "timer2_end = ti.default_timer()\n",
    "print(\"BubbleSort with ten thousand numbers: \", timer2_end - timer2_start)\n",
    "\n",
    "timer3_start = ti.default_timer()\n",
    "bs3 = BubbleSort(hundred_thousand);\n",
    "timer3_end = ti.default_timer()\n",
    "print(\"BubbleSort with hundred thousand numbers: \", timer3_end - timer3_start)\n",
    "\n",
    "# !!!!! I IN NO WAY RECOMMEND RUNNING THIS PARTICULAR ALGORITHM WITH A MILLION NUMBERS !!!!! \n",
    "# (i tried to sort it, waited for 3 hours and then gave up, according to my calculations it would take ~7,5 hours to complete sorting)\n",
    "\n",
    "#timer4_start = ti.default_timer()\n",
    "#bs4 = BubbleSort(million);\n",
    "#timer4_end = ti.default_timer()\n",
    "#print(\"BubbleSort with a million numbers: \", timer4_end - timer4_start)\n"
   ]
  },
  {
   "cell_type": "code",
   "execution_count": 6,
   "metadata": {},
   "outputs": [
    {
     "name": "stdout",
     "output_type": "stream",
     "text": [
      "Insertion Sort with thousand numbers:  0.008418400000664406\n",
      "Insertion Sort with ten thousand numbers:  0.9081965000004857\n",
      "Insertion Sort with hundred thousand numbers:  94.28479750000406\n"
     ]
    }
   ],
   "source": [
    "# Always initializing the lists again to make them random\n",
    "thousand = [random.randint(1, 1000) for _ in range(1000)]\n",
    "ten_thousand = [random.randint(1, 10000) for _ in range(10000)]\n",
    "hundred_thousand = [random.randint(1, 100000) for _ in range(100000)]\n",
    "# million = [random.randint(1, 1000000) for _ in range(1000000)]\n",
    "\n",
    "timer_start = ti.default_timer()\n",
    "Is = InsertionSort(thousand);\n",
    "timer_end = ti.default_timer()\n",
    "print(\"Insertion Sort with thousand numbers: \", timer_end - timer_start)\n",
    "\n",
    "timer2_start = ti.default_timer()\n",
    "Is2 = InsertionSort(ten_thousand);\n",
    "timer2_end = ti.default_timer()\n",
    "print(\"Insertion Sort with ten thousand numbers: \", timer2_end - timer2_start)\n",
    "\n",
    "timer3_start = ti.default_timer()\n",
    "Is3 = InsertionSort(hundred_thousand);\n",
    "timer3_end = ti.default_timer()\n",
    "print(\"Insertion Sort with hundred thousand numbers: \", timer3_end - timer3_start)"
   ]
  },
  {
   "cell_type": "code",
   "execution_count": 8,
   "metadata": {},
   "outputs": [
    {
     "name": "stdout",
     "output_type": "stream",
     "text": [
      "Merge sort with thousand numbers:  0.000891399999090936\n",
      "Merge sort with ten thousand numbers:  0.010570200000074692\n",
      "Merge sort with hundred thousand numbers:  0.1320687999977963\n",
      "Merge sort with a million numbers:  1.7388005999964662\n"
     ]
    }
   ],
   "source": [
    "# Always initializing the lists again to make them random\n",
    "thousand = [random.randint(1, 1000) for _ in range(1000)]\n",
    "ten_thousand = [random.randint(1, 10000) for _ in range(10000)]\n",
    "hundred_thousand = [random.randint(1, 100000) for _ in range(100000)]\n",
    "million = [random.randint(1, 1000000) for _ in range(1000000)]\n",
    "\n",
    "timer_start = ti.default_timer()\n",
    "ms = MergeSort(thousand);\n",
    "timer_end = ti.default_timer()\n",
    "print(\"Merge sort with thousand numbers: \", timer_end - timer_start)\n",
    "\n",
    "timer2_start = ti.default_timer()\n",
    "ms2 = MergeSort(ten_thousand);\n",
    "timer2_end = ti.default_timer()\n",
    "print(\"Merge sort with ten thousand numbers: \", timer2_end - timer2_start)\n",
    "\n",
    "timer3_start = ti.default_timer()\n",
    "ms3 = MergeSort(hundred_thousand);\n",
    "timer3_end = ti.default_timer()\n",
    "print(\"Merge sort with hundred thousand numbers: \", timer3_end - timer3_start)\n",
    "\n",
    "timer4_start = ti.default_timer()\n",
    "ms4 = MergeSort(million);\n",
    "timer4_end = ti.default_timer()\n",
    "print(\"Merge sort with a million numbers: \", timer4_end - timer4_start)"
   ]
  }
 ],
 "metadata": {
  "kernelspec": {
   "display_name": "Python 3",
   "language": "python",
   "name": "python3"
  },
  "language_info": {
   "codemirror_mode": {
    "name": "ipython",
    "version": 3
   },
   "file_extension": ".py",
   "mimetype": "text/x-python",
   "name": "python",
   "nbconvert_exporter": "python",
   "pygments_lexer": "ipython3",
   "version": "3.11.1"
  }
 },
 "nbformat": 4,
 "nbformat_minor": 2
}
