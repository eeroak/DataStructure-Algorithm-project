{
 "cells": [
  {
   "cell_type": "code",
   "execution_count": 15,
   "metadata": {},
   "outputs": [
    {
     "data": {
      "text/plain": [
       "('Found key', 100)"
      ]
     },
     "execution_count": 15,
     "metadata": {},
     "output_type": "execute_result"
    }
   ],
   "source": [
    "# Linear search algorithm goes through every elemen of a list until desired element is found,\n",
    "# otherwise the search continues till the end of the list.\n",
    "\n",
    "def LinearSearch(arr):\n",
    "    key = 100 # Change the key-value to something that is in the given list or not, return values depend on that\n",
    "    \n",
    "    for n in range(len(arr)):\n",
    "        if (arr[n] == key):\n",
    "            return \"Found key\", key\n",
    "    return \"Key not found in given list\"\n",
    "        \n",
    "\n",
    "li = [5, 7, 3, 2, 10, 100, 60, 33, 1]\n",
    "\n",
    "LinearSearch(li)"
   ]
  },
  {
   "cell_type": "code",
   "execution_count": 16,
   "metadata": {},
   "outputs": [
    {
     "data": {
      "text/plain": [
       "'Key not found in given list'"
      ]
     },
     "execution_count": 16,
     "metadata": {},
     "output_type": "execute_result"
    }
   ],
   "source": [
    "# Example with a key-value that is not in present in the list\n",
    "def LinearSearch(arr):\n",
    "    key = 59 # Change the key -value to something that is in the given list or not, return values depend on that\n",
    "    \n",
    "    for n in range(len(arr)):\n",
    "        if (arr[n] == key):\n",
    "            return \"Found key\", key\n",
    "    return \"Key not found in given list\"\n",
    "        \n",
    "\n",
    "li = [5, 7, 3, 2, 10, 100, 60, 33, 1]\n",
    "\n",
    "LinearSearch(li)"
   ]
  }
 ],
 "metadata": {
  "kernelspec": {
   "display_name": "Python 3",
   "language": "python",
   "name": "python3"
  },
  "language_info": {
   "codemirror_mode": {
    "name": "ipython",
    "version": 3
   },
   "file_extension": ".py",
   "mimetype": "text/x-python",
   "name": "python",
   "nbconvert_exporter": "python",
   "pygments_lexer": "ipython3",
   "version": "3.11.1"
  }
 },
 "nbformat": 4,
 "nbformat_minor": 2
}
