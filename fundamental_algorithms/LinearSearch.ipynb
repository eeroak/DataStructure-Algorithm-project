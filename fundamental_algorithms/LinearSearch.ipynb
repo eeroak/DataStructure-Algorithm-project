{
 "cells": [
  {
   "cell_type": "code",
   "execution_count": 2,
   "metadata": {},
   "outputs": [
    {
     "data": {
      "text/plain": [
       "('Found key', 100, 'at index', 5)"
      ]
     },
     "execution_count": 2,
     "metadata": {},
     "output_type": "execute_result"
    }
   ],
   "source": [
    "# Linear search algorithm goes through every elemen of a list until desired element is found,\n",
    "# otherwise the search continues till the end of the list.\n",
    "# In the worst case, its performance and space complexity are O(n) & O(1), as for best case both are O(1)\n",
    "def LinearSearch(arr, ele):\n",
    "    key = ele # Change the key-value to something that is in the given list or not, return values depend on that\n",
    "    \n",
    "    for n in range(len(arr)):\n",
    "        if (arr[n] == key):\n",
    "            return \"Found key\", key, \"at index\", n\n",
    "    return \"Key not found in given list\"\n",
    "        \n",
    "\n",
    "li = [5, 7, 3, 2, 10, 100, 60, 33, 1]\n",
    "ele = 100\n",
    "LinearSearch(li, ele)"
   ]
  },
  {
   "cell_type": "code",
   "execution_count": 3,
   "metadata": {},
   "outputs": [
    {
     "data": {
      "text/plain": [
       "'Key not found in given list'"
      ]
     },
     "execution_count": 3,
     "metadata": {},
     "output_type": "execute_result"
    }
   ],
   "source": [
    "# Example with a key-value that is not in present in the list\n",
    "def LinearSearch(arr, ele):\n",
    "    key = ele # Change the key -value to something that is in the given list or not, return values depend on that\n",
    "    \n",
    "    for n in range(len(arr)):\n",
    "        if (arr[n] == key):\n",
    "            return \"Found key\", key\n",
    "    return \"Key not found in given list\"\n",
    "        \n",
    "\n",
    "li = [5, 7, 3, 2, 10, 100, 60, 33, 1]\n",
    "ele = 59\n",
    "LinearSearch(li, ele)"
   ]
  }
 ],
 "metadata": {
  "kernelspec": {
   "display_name": "Python 3",
   "language": "python",
   "name": "python3"
  },
  "language_info": {
   "codemirror_mode": {
    "name": "ipython",
    "version": 3
   },
   "file_extension": ".py",
   "mimetype": "text/x-python",
   "name": "python",
   "nbconvert_exporter": "python",
   "pygments_lexer": "ipython3",
   "version": "3.11.1"
  }
 },
 "nbformat": 4,
 "nbformat_minor": 2
}
