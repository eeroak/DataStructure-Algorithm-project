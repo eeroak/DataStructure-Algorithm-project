{
 "cells": [
  {
   "cell_type": "code",
   "execution_count": 3,
   "metadata": {},
   "outputs": [
    {
     "name": "stdout",
     "output_type": "stream",
     "text": [
      "Given array is\n",
      "12 11 13 5 6 7 100 50 343 33 1 3 \n",
      "\n",
      "Sorted array is \n",
      "1 3 5 6 7 11 12 13 33 50 100 343 \n"
     ]
    }
   ],
   "source": [
    "# Merge sorting works by dividing the unsorted list into n sublists,\n",
    "# each containing one element, and then repeatedly merging sorted sublists until there is only one sublist remaining.\n",
    "# The time and space complexity is O(n log n), O(n)\n",
    "\n",
    "def MergeSort(li):\n",
    "    if len(li) > 1:\n",
    "        \n",
    "        middle = len(li)//2 # Finding the middlepoint of the list\n",
    "        # Dividing the array in to two subarrays\n",
    "        left = li[:middle]\n",
    "        right = li[middle:]\n",
    "        # Sorting both sides\n",
    "        MergeSort(left)\n",
    "        MergeSort(right)\n",
    "        \n",
    "        i = j = n = 0 # set the iterables to 0\n",
    "        \n",
    "        # Copying the data to temporary arrays left[] & right[]\n",
    "        while i < len(left) and j < len(right): # While iteratives are smaller than the lists\n",
    "            if left[i] <= right[j]: # If element of left list is smaller or equal to element of right list\n",
    "                li[n] = left[i] # Add the element of left list to our main list\n",
    "                i += 1\n",
    "            else:\n",
    "                li[n] = right[j] # Add the element of right list to our main list\n",
    "                j += 1\n",
    "            n += 1\n",
    "        \n",
    "        # Checking for any elements that were left    \n",
    "        while i < len(left):\n",
    "            li[n] = left[i]\n",
    "            i += 1\n",
    "            n += 1\n",
    "        \n",
    "        while j < len(right):\n",
    "            li[n] = right[j]\n",
    "            j += 1\n",
    "            n += 1\n",
    "            \n",
    "def printList(li):\n",
    "    # For each index in the range of the length of 'li'\n",
    "    for i in range(len(li)):\n",
    "        # Print the 'i'th element of 'li', followed by a space\n",
    "        print(li[i], end=\" \")\n",
    "    print()\n",
    "    \n",
    "li1 = [12, 11, 13, 5, 6, 7, 100, 50, 343, 33, 1, 3]\n",
    "print(\"Given array is\")\n",
    "printList(li1)\n",
    "MergeSort(li1)\n",
    "print(\"\\nSorted array is \")\n",
    "printList(li1)"
   ]
  }
 ],
 "metadata": {
  "kernelspec": {
   "display_name": "Python 3",
   "language": "python",
   "name": "python3"
  },
  "language_info": {
   "codemirror_mode": {
    "name": "ipython",
    "version": 3
   },
   "file_extension": ".py",
   "mimetype": "text/x-python",
   "name": "python",
   "nbconvert_exporter": "python",
   "pygments_lexer": "ipython3",
   "version": "3.11.1"
  }
 },
 "nbformat": 4,
 "nbformat_minor": 2
}
