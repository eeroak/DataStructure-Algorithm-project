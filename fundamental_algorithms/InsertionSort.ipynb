{
 "cells": [
  {
   "cell_type": "code",
   "execution_count": 1,
   "metadata": {},
   "outputs": [
    {
     "name": "stdout",
     "output_type": "stream",
     "text": [
      "Array before sorting: [1, 2, 6, 7, 3, 2311, 2, 6, 8, 43, 234, 34, 234, 999, 7665, 33, 2232]\n",
      "Array after sorting: [1, 2, 2, 3, 6, 6, 7, 8, 33, 34, 43, 234, 234, 999, 2232, 2311, 7665]\n"
     ]
    }
   ],
   "source": [
    "# Insertion sorting algorithm takes the current element and compares it with the elements in the sorted portion of the array that precede it. \n",
    "# If the key is smaller than an element in the sorted portion, the function shifts that element to the right, creating space for the \"key\". \n",
    "# This process continues until the correct position for the \"key\" is found, and it is then inserted in that position.\n",
    "# Time and space complexity for this algorithm if done correctly is: O(n^2), O(1)\n",
    "\n",
    "def InsertionSort(lol): # Array variable name, dont ask im tired\n",
    "    n = len(lol)\n",
    "    \n",
    "    if n <= 1:\n",
    "        return # If the array has 0 or 1 elements, it is already sorted\n",
    "    \n",
    "    for i in range(1,n):\n",
    "        temp_key = lol[i] # Storing the current element as a \"key\" to be inserted into the right position\n",
    "        j = i-1\n",
    "        while j >= 0 and temp_key < lol[j]: # Move the elements greater than the \"key\" one posiion forwards\n",
    "            lol[j+1] = lol[j] # Shift elements to the right\n",
    "            j -= 1\n",
    "        lol[j+1] = temp_key # Inserting the \"key\" in the correct position\n",
    "        \n",
    "array1 = [1,2,6,7,3,2311,2,6,8,43,234,34,234,999,7665,33,2232]\n",
    "print(\"Array before sorting:\", array1)\n",
    "InsertionSort(array1)\n",
    "print(\"Array after sorting:\", array1)"
   ]
  }
 ],
 "metadata": {
  "kernelspec": {
   "display_name": "Python 3",
   "language": "python",
   "name": "python3"
  },
  "language_info": {
   "codemirror_mode": {
    "name": "ipython",
    "version": 3
   },
   "file_extension": ".py",
   "mimetype": "text/x-python",
   "name": "python",
   "nbconvert_exporter": "python",
   "pygments_lexer": "ipython3",
   "version": "3.11.1"
  }
 },
 "nbformat": 4,
 "nbformat_minor": 2
}
